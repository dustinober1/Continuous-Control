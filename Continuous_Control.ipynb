{
 "cells": [
  {
   "cell_type": "markdown",
   "metadata": {},
   "source": [
    "# Continuous Control\n",
    "\n",
    "---\n",
    "\n",
    "You are welcome to use this coding environment to train your agent for the project.  Follow the instructions below to get started!\n",
    "\n",
    "### 0. Clean Up the Zombie Processes\n",
    "At the end of this notebook, when you execute `env.close()`, it does not clean up the environment completely. Instead, the Unity environment process becomes a \"zombie\" process. A zombie process is one that has completed execution but still has an entry in the process table because its parent process hasn’t properly reaped it.\n",
    "You can yourself verify this by running these commands in the terminal. Find the parent process ID (PPID) of the zombie process:\n",
    "```bash\n",
    "ps -o pid,ppid,stat,cmd | grep Reacher\n",
    "```\n",
    "If the parent process (PPID) is not 1, kill it to clean up the zombie process:\n",
    "```bash\n",
    "kill -9 <PPID>\n",
    "```\n",
    "Below is the equivalent Python code that checks for and cleans zombie processes using `psutil`. **You need run the cell below only when you restart the Unity environment.** \n",
    "\n",
    "> **NOTE**: The code cell below will also kill the Kernel. You should restart it when required."
   ]
  },
  {
   "cell_type": "raw",
   "metadata": {},
   "source": [
    "import psutil\n",
    "\n",
    "def cleanup_zombie_processes():\n",
    "    for proc in psutil.process_iter(['pid', 'ppid', 'name', 'status']):\n",
    "        if proc.info['name'] == 'Reacher_One_Lin' and proc.info['status'] == 'zombie':\n",
    "            print(f\"Zombie process detected: {proc.info}\")\n",
    "            parent = psutil.Process(proc.info['ppid'])\n",
    "            print(f\"Terminating parent process: {parent}\")\n",
    "            parent.terminate()\n",
    "\n",
    "cleanup_zombie_processes()"
   ]
  },
  {
   "cell_type": "markdown",
   "metadata": {},
   "source": [
    "### 1. Start the Environment\n",
    "\n",
    "Run the next code cell to install a few packages.  This line will take a few minutes to run!"
   ]
  },
  {
   "cell_type": "code",
   "execution_count": null,
   "metadata": {},
   "outputs": [],
   "source": [
    "!pip -q install ."
   ]
  },
  {
   "cell_type": "markdown",
   "metadata": {},
   "source": [
    "The environments corresponding to both versions of the environment are already saved in the Workspace and can be accessed at the file paths provided below.  \n",
    "\n",
    "Please select one of the two options below for loading the environment."
   ]
  },
  {
   "cell_type": "code",
   "execution_count": 15,
   "metadata": {},
   "outputs": [
    {
     "name": "stdout",
     "output_type": "stream",
     "text": [
      "Found path: /data/Reacher_Linux_NoVis/Reacher.x86_64\n",
      "Mono path[0] = '/data/Reacher_Linux_NoVis/Reacher_Data/Managed'\n",
      "Mono config path = '/data/Reacher_Linux_NoVis/Reacher_Data/MonoBleedingEdge/etc'\n",
      "Preloaded 'libgrpc_csharp_ext.x64.so'\n",
      "Unable to preload the following plugins:\n",
      "\tlibgrpc_csharp_ext.x86.so\n",
      "Logging to /home/student/.config/unity3d/Unity Technologies/Unity Environment/Player.log\n"
     ]
    },
    {
     "name": "stderr",
     "output_type": "stream",
     "text": [
      "INFO:unityagents:\n",
      "'Academy' started successfully!\n",
      "Unity Academy name: Academy\n",
      "        Number of Brains: 1\n",
      "        Number of External Brains : 1\n",
      "        Lesson number : 0\n",
      "        Reset Parameters :\n",
      "\t\tgoal_size -> 5.0\n",
      "\t\tgoal_speed -> 1.0\n",
      "Unity brain name: ReacherBrain\n",
      "        Number of Visual Observations (per agent): 0\n",
      "        Vector Observation space type: continuous\n",
      "        Vector Observation space size (per agent): 33\n",
      "        Number of stacked Vector Observation: 1\n",
      "        Vector Action space type: continuous\n",
      "        Vector Action space size (per agent): 4\n",
      "        Vector Action descriptions: , , , \n"
     ]
    }
   ],
   "source": [
    "from unityagents import UnityEnvironment\n",
    "import numpy as np\n",
    "\n",
    "# select this option to load version 1 (with a single agent) of the environment\n",
    "# env = UnityEnvironment(file_name='/data/Reacher_One_Linux_NoVis/Reacher_One_Linux_NoVis.x86_64')\n",
    "\n",
    "# select this option to load version 2 (with 20 agents) of the environment\n",
    "env = UnityEnvironment(file_name='/data/Reacher_Linux_NoVis/Reacher.x86_64')"
   ]
  },
  {
   "cell_type": "markdown",
   "metadata": {},
   "source": [
    "Environments contain **_brains_** which are responsible for deciding the actions of their associated agents. Here we check for the first brain available, and set it as the default brain we will be controlling from Python."
   ]
  },
  {
   "cell_type": "code",
   "execution_count": 16,
   "metadata": {},
   "outputs": [],
   "source": [
    "# get the default brain\n",
    "brain_name = env.brain_names[0]\n",
    "brain = env.brains[brain_name]"
   ]
  },
  {
   "cell_type": "markdown",
   "metadata": {},
   "source": [
    "### 2. Examine the State and Action Spaces\n",
    "\n",
    "Run the code cell below to print some information about the environment."
   ]
  },
  {
   "cell_type": "code",
   "execution_count": 17,
   "metadata": {},
   "outputs": [
    {
     "name": "stdout",
     "output_type": "stream",
     "text": [
      "Number of agents: 20\n",
      "Size of each action: 4\n",
      "There are 20 agents. Each observes a state with length: 33\n",
      "The state for the first agent looks like: [ 0.00000000e+00 -4.00000000e+00  0.00000000e+00  1.00000000e+00\n",
      " -0.00000000e+00 -0.00000000e+00 -4.37113883e-08  0.00000000e+00\n",
      "  0.00000000e+00  0.00000000e+00  0.00000000e+00  0.00000000e+00\n",
      "  0.00000000e+00  0.00000000e+00 -1.00000000e+01  0.00000000e+00\n",
      "  1.00000000e+00 -0.00000000e+00 -0.00000000e+00 -4.37113883e-08\n",
      "  0.00000000e+00  0.00000000e+00  0.00000000e+00  0.00000000e+00\n",
      "  0.00000000e+00  0.00000000e+00  5.75471878e+00 -1.00000000e+00\n",
      "  5.55726624e+00  0.00000000e+00  1.00000000e+00  0.00000000e+00\n",
      " -1.68164849e-01]\n"
     ]
    }
   ],
   "source": [
    "# reset the environment\n",
    "env_info = env.reset(train_mode=True)[brain_name]\n",
    "\n",
    "# number of agents\n",
    "num_agents = len(env_info.agents)\n",
    "print('Number of agents:', num_agents)\n",
    "\n",
    "# size of each action\n",
    "action_size = brain.vector_action_space_size\n",
    "print('Size of each action:', action_size)\n",
    "\n",
    "# examine the state space \n",
    "states = env_info.vector_observations\n",
    "state_size = states.shape[1]\n",
    "print('There are {} agents. Each observes a state with length: {}'.format(states.shape[0], state_size))\n",
    "print('The state for the first agent looks like:', states[0])"
   ]
  },
  {
   "cell_type": "markdown",
   "metadata": {},
   "source": [
    "### 3. Take Random Actions in the Environment\n",
    "\n",
    "In the next code cell, you will learn how to use the Python API to control the agent and receive feedback from the environment.\n",
    "\n",
    "Note that **in this coding environment, you will not be able to watch the agents while they are training**, and you should set `train_mode=True` to restart the environment."
   ]
  },
  {
   "cell_type": "code",
   "execution_count": 18,
   "metadata": {},
   "outputs": [
    {
     "name": "stdout",
     "output_type": "stream",
     "text": [
      "Total score (averaged over agents) this episode: 0.13199999704957008\n"
     ]
    }
   ],
   "source": [
    "env_info = env.reset(train_mode=True)[brain_name]      # reset the environment    \n",
    "states = env_info.vector_observations                  # get the current state (for each agent)\n",
    "scores = np.zeros(num_agents)                          # initialize the score (for each agent)\n",
    "while True:\n",
    "    actions = np.random.randn(num_agents, action_size) # select an action (for each agent)\n",
    "    actions = np.clip(actions, -1, 1)                  # all actions between -1 and 1\n",
    "    env_info = env.step(actions)[brain_name]           # send all actions to tne environment\n",
    "    next_states = env_info.vector_observations         # get next state (for each agent)\n",
    "    rewards = env_info.rewards                         # get reward (for each agent)\n",
    "    dones = env_info.local_done                        # see if episode finished\n",
    "    scores += env_info.rewards                         # update the score (for each agent)\n",
    "    states = next_states                               # roll over states to next time step\n",
    "    if np.any(dones):                                  # exit loop if episode finished\n",
    "        break\n",
    "print('Total score (averaged over agents) this episode: {}'.format(np.mean(scores)))"
   ]
  },
  {
   "cell_type": "markdown",
   "metadata": {},
   "source": [
    "When finished, you can close the environment."
   ]
  },
  {
   "cell_type": "code",
   "execution_count": null,
   "metadata": {},
   "outputs": [],
   "source": [
    "env.close()"
   ]
  },
  {
   "cell_type": "markdown",
   "metadata": {},
   "source": [
    "### 4. It's Your Turn!\n",
    "\n",
    "Now it's your turn to train your own agent to solve the environment!  A few **important notes**:\n",
    "- When training the environment, set `train_mode=True`, so that the line for resetting the environment looks like the following:\n",
    "```python\n",
    "env_info = env.reset(train_mode=True)[brain_name]\n",
    "```\n",
    "- To structure your work, you're welcome to work directly in this Jupyter notebook, or you might like to start over with a new file!  You can see the list of files in the workspace by clicking on **_Jupyter_** in the top left corner of the notebook.\n",
    "- In this coding environment, you will not be able to watch the agents while they are training.  However, **_after training the agents_**, you can download the saved model weights to watch the agents on your own machine! "
   ]
  },
  {
   "cell_type": "markdown",
   "metadata": {},
   "source": [
    "# My Implementation"
   ]
  },
  {
   "cell_type": "code",
   "execution_count": 6,
   "metadata": {
    "scrolled": true
   },
   "outputs": [
    {
     "name": "stdout",
     "output_type": "stream",
     "text": [
      "Defaulting to user installation because normal site-packages is not writeable\n",
      "Requirement already satisfied: pip in /usr/local/lib/python3.11/dist-packages (23.2.1)\n",
      "Collecting pip\n",
      "  Obtaining dependency information for pip from https://files.pythonhosted.org/packages/b7/3f/945ef7ab14dc4f9d7f40288d2df998d1837ee0888ec3659c813487572faa/pip-25.2-py3-none-any.whl.metadata\n",
      "  Downloading pip-25.2-py3-none-any.whl.metadata (4.7 kB)\n",
      "Downloading pip-25.2-py3-none-any.whl (1.8 MB)\n",
      "\u001b[2K   \u001b[90m━━━━━━━━━━━━━━━━━━━━━━━━━━━━━━━━━━━━━━━━\u001b[0m \u001b[32m1.8/1.8 MB\u001b[0m \u001b[31m20.9 MB/s\u001b[0m eta \u001b[36m0:00:00\u001b[0ma \u001b[36m0:00:01\u001b[0m\n",
      "\u001b[?25hInstalling collected packages: pip\n",
      "\u001b[33m  WARNING: The scripts pip, pip3 and pip3.11 are installed in '/home/student/.local/bin' which is not on PATH.\n",
      "  Consider adding this directory to PATH or, if you prefer to suppress this warning, use --no-warn-script-location.\u001b[0m\u001b[33m\n",
      "\u001b[0mSuccessfully installed pip-25.2\n",
      "\n",
      "\u001b[1m[\u001b[0m\u001b[34;49mnotice\u001b[0m\u001b[1;39;49m]\u001b[0m\u001b[39;49m A new release of pip is available: \u001b[0m\u001b[31;49m23.2.1\u001b[0m\u001b[39;49m -> \u001b[0m\u001b[32;49m25.2\u001b[0m\n",
      "\u001b[1m[\u001b[0m\u001b[34;49mnotice\u001b[0m\u001b[1;39;49m]\u001b[0m\u001b[39;49m To update, run: \u001b[0m\u001b[32;49mpython3 -m pip install --upgrade pip\u001b[0m\n",
      "Defaulting to user installation because normal site-packages is not writeable\n",
      "Collecting torch\n",
      "  Downloading torch-2.8.0-cp311-cp311-manylinux_2_28_x86_64.whl.metadata (30 kB)\n",
      "Collecting filelock (from torch)\n",
      "  Downloading filelock-3.19.1-py3-none-any.whl.metadata (2.1 kB)\n",
      "Collecting typing-extensions>=4.10.0 (from torch)\n",
      "  Downloading typing_extensions-4.15.0-py3-none-any.whl.metadata (3.3 kB)\n",
      "Collecting sympy>=1.13.3 (from torch)\n",
      "  Downloading sympy-1.14.0-py3-none-any.whl.metadata (12 kB)\n",
      "Collecting networkx (from torch)\n",
      "  Downloading networkx-3.5-py3-none-any.whl.metadata (6.3 kB)\n",
      "Requirement already satisfied: jinja2 in /usr/local/lib/python3.11/dist-packages (from torch) (3.1.3)\n",
      "Requirement already satisfied: fsspec in /usr/local/lib/python3.11/dist-packages (from torch) (2024.3.1)\n",
      "Collecting nvidia-cuda-nvrtc-cu12==12.8.93 (from torch)\n",
      "  Downloading nvidia_cuda_nvrtc_cu12-12.8.93-py3-none-manylinux2010_x86_64.manylinux_2_12_x86_64.whl.metadata (1.7 kB)\n",
      "Collecting nvidia-cuda-runtime-cu12==12.8.90 (from torch)\n",
      "  Downloading nvidia_cuda_runtime_cu12-12.8.90-py3-none-manylinux2014_x86_64.manylinux_2_17_x86_64.whl.metadata (1.7 kB)\n",
      "Collecting nvidia-cuda-cupti-cu12==12.8.90 (from torch)\n",
      "  Downloading nvidia_cuda_cupti_cu12-12.8.90-py3-none-manylinux2014_x86_64.manylinux_2_17_x86_64.whl.metadata (1.7 kB)\n",
      "Collecting nvidia-cudnn-cu12==9.10.2.21 (from torch)\n",
      "  Downloading nvidia_cudnn_cu12-9.10.2.21-py3-none-manylinux_2_27_x86_64.whl.metadata (1.8 kB)\n",
      "Collecting nvidia-cublas-cu12==12.8.4.1 (from torch)\n",
      "  Downloading nvidia_cublas_cu12-12.8.4.1-py3-none-manylinux_2_27_x86_64.whl.metadata (1.7 kB)\n",
      "Collecting nvidia-cufft-cu12==11.3.3.83 (from torch)\n",
      "  Downloading nvidia_cufft_cu12-11.3.3.83-py3-none-manylinux2014_x86_64.manylinux_2_17_x86_64.whl.metadata (1.7 kB)\n",
      "Collecting nvidia-curand-cu12==10.3.9.90 (from torch)\n",
      "  Downloading nvidia_curand_cu12-10.3.9.90-py3-none-manylinux_2_27_x86_64.whl.metadata (1.7 kB)\n",
      "Collecting nvidia-cusolver-cu12==11.7.3.90 (from torch)\n",
      "  Downloading nvidia_cusolver_cu12-11.7.3.90-py3-none-manylinux_2_27_x86_64.whl.metadata (1.8 kB)\n",
      "Collecting nvidia-cusparse-cu12==12.5.8.93 (from torch)\n",
      "  Downloading nvidia_cusparse_cu12-12.5.8.93-py3-none-manylinux2014_x86_64.manylinux_2_17_x86_64.whl.metadata (1.8 kB)\n",
      "Collecting nvidia-cusparselt-cu12==0.7.1 (from torch)\n",
      "  Downloading nvidia_cusparselt_cu12-0.7.1-py3-none-manylinux2014_x86_64.whl.metadata (7.0 kB)\n",
      "Collecting nvidia-nccl-cu12==2.27.3 (from torch)\n",
      "  Downloading nvidia_nccl_cu12-2.27.3-py3-none-manylinux2014_x86_64.manylinux_2_17_x86_64.whl.metadata (2.0 kB)\n",
      "Collecting nvidia-nvtx-cu12==12.8.90 (from torch)\n",
      "  Downloading nvidia_nvtx_cu12-12.8.90-py3-none-manylinux2014_x86_64.manylinux_2_17_x86_64.whl.metadata (1.8 kB)\n",
      "Collecting nvidia-nvjitlink-cu12==12.8.93 (from torch)\n",
      "  Downloading nvidia_nvjitlink_cu12-12.8.93-py3-none-manylinux2010_x86_64.manylinux_2_12_x86_64.whl.metadata (1.7 kB)\n",
      "Collecting nvidia-cufile-cu12==1.13.1.3 (from torch)\n",
      "  Downloading nvidia_cufile_cu12-1.13.1.3-py3-none-manylinux2014_x86_64.manylinux_2_17_x86_64.whl.metadata (1.7 kB)\n",
      "Collecting triton==3.4.0 (from torch)\n",
      "  Downloading triton-3.4.0-cp311-cp311-manylinux_2_27_x86_64.manylinux_2_28_x86_64.whl.metadata (1.7 kB)\n",
      "Requirement already satisfied: setuptools>=40.8.0 in /usr/local/lib/python3.11/dist-packages (from triton==3.4.0->torch) (68.2.2)\n",
      "Collecting mpmath<1.4,>=1.1.0 (from sympy>=1.13.3->torch)\n",
      "  Downloading mpmath-1.3.0-py3-none-any.whl.metadata (8.6 kB)\n",
      "Requirement already satisfied: MarkupSafe>=2.0 in /usr/local/lib/python3.11/dist-packages (from jinja2->torch) (2.1.3)\n",
      "Downloading torch-2.8.0-cp311-cp311-manylinux_2_28_x86_64.whl (888.1 MB)\n",
      "\u001b[2K   \u001b[90m━━━━━━━━━━━━━━━━━━━━━━━━━━━━━━━━━━━━━━━━\u001b[0m \u001b[32m888.1/888.1 MB\u001b[0m \u001b[31m28.5 MB/s\u001b[0m  \u001b[33m0:00:11\u001b[0mm0:00:01\u001b[0m00:01\u001b[0m\n",
      "\u001b[?25hDownloading nvidia_cublas_cu12-12.8.4.1-py3-none-manylinux_2_27_x86_64.whl (594.3 MB)\n",
      "\u001b[2K   \u001b[90m━━━━━━━━━━━━━━━━━━━━━━━━━━━━━━━━━━━━━━━━\u001b[0m \u001b[32m594.3/594.3 MB\u001b[0m \u001b[31m42.9 MB/s\u001b[0m  \u001b[33m0:00:07\u001b[0mm0:00:01\u001b[0m00:01\u001b[0m\n",
      "\u001b[?25hDownloading nvidia_cuda_cupti_cu12-12.8.90-py3-none-manylinux2014_x86_64.manylinux_2_17_x86_64.whl (10.2 MB)\n",
      "\u001b[2K   \u001b[90m━━━━━━━━━━━━━━━━━━━━━━━━━━━━━━━━━━━━━━━━\u001b[0m \u001b[32m10.2/10.2 MB\u001b[0m \u001b[31m139.2 MB/s\u001b[0m  \u001b[33m0:00:00\u001b[0m\n",
      "\u001b[?25hDownloading nvidia_cuda_nvrtc_cu12-12.8.93-py3-none-manylinux2010_x86_64.manylinux_2_12_x86_64.whl (88.0 MB)\n",
      "\u001b[2K   \u001b[90m━━━━━━━━━━━━━━━━━━━━━━━━━━━━━━━━━━━━━━━━\u001b[0m \u001b[32m88.0/88.0 MB\u001b[0m \u001b[31m121.5 MB/s\u001b[0m  \u001b[33m0:00:00\u001b[0mm0:00:01\u001b[0m00:01\u001b[0m\n",
      "\u001b[?25hDownloading nvidia_cuda_runtime_cu12-12.8.90-py3-none-manylinux2014_x86_64.manylinux_2_17_x86_64.whl (954 kB)\n",
      "\u001b[2K   \u001b[90m━━━━━━━━━━━━━━━━━━━━━━━━━━━━━━━━━━━━━━━━\u001b[0m \u001b[32m954.8/954.8 kB\u001b[0m \u001b[31m41.4 MB/s\u001b[0m  \u001b[33m0:00:00\u001b[0m\n",
      "\u001b[?25hDownloading nvidia_cudnn_cu12-9.10.2.21-py3-none-manylinux_2_27_x86_64.whl (706.8 MB)\n",
      "\u001b[2K   \u001b[90m━━━━━━━━━━━━━━━━━━━━━━━━━━━━━━━━━━━━━━━━\u001b[0m \u001b[32m706.8/706.8 MB\u001b[0m \u001b[31m34.5 MB/s\u001b[0m  \u001b[33m0:00:09\u001b[0mm0:00:01\u001b[0m00:01\u001b[0m\n",
      "\u001b[?25hDownloading nvidia_cufft_cu12-11.3.3.83-py3-none-manylinux2014_x86_64.manylinux_2_17_x86_64.whl (193.1 MB)\n",
      "\u001b[2K   \u001b[90m━━━━━━━━━━━━━━━━━━━━━━━━━━━━━━━━━━━━━━━━\u001b[0m \u001b[32m193.1/193.1 MB\u001b[0m \u001b[31m119.8 MB/s\u001b[0m  \u001b[33m0:00:01\u001b[0m0:00:01\u001b[0m00:01\u001b[0m\n",
      "\u001b[?25hDownloading nvidia_cufile_cu12-1.13.1.3-py3-none-manylinux2014_x86_64.manylinux_2_17_x86_64.whl (1.2 MB)\n",
      "\u001b[2K   \u001b[90m━━━━━━━━━━━━━━━━━━━━━━━━━━━━━━━━━━━━━━━━\u001b[0m \u001b[32m1.2/1.2 MB\u001b[0m \u001b[31m61.2 MB/s\u001b[0m  \u001b[33m0:00:00\u001b[0m\n",
      "\u001b[?25hDownloading nvidia_curand_cu12-10.3.9.90-py3-none-manylinux_2_27_x86_64.whl (63.6 MB)\n",
      "\u001b[2K   \u001b[90m━━━━━━━━━━━━━━━━━━━━━━━━━━━━━━━━━━━━━━━━\u001b[0m \u001b[32m63.6/63.6 MB\u001b[0m \u001b[31m132.9 MB/s\u001b[0m  \u001b[33m0:00:00\u001b[0mm0:00:01\u001b[0m00:01\u001b[0m\n",
      "\u001b[?25hDownloading nvidia_cusolver_cu12-11.7.3.90-py3-none-manylinux_2_27_x86_64.whl (267.5 MB)\n",
      "\u001b[2K   \u001b[90m━━━━━━━━━━━━━━━━━━━━━━━━━━━━━━━━━━━━━━━━\u001b[0m \u001b[32m267.5/267.5 MB\u001b[0m \u001b[31m76.8 MB/s\u001b[0m  \u001b[33m0:00:03\u001b[0mm0:00:01\u001b[0m00:01\u001b[0m\n",
      "\u001b[?25hDownloading nvidia_cusparse_cu12-12.5.8.93-py3-none-manylinux2014_x86_64.manylinux_2_17_x86_64.whl (288.2 MB)\n",
      "\u001b[2K   \u001b[90m━━━━━━━━━━━━━━━━━━━━━━━━━━━━━━━━━━━━━━━━\u001b[0m \u001b[32m288.2/288.2 MB\u001b[0m \u001b[31m80.7 MB/s\u001b[0m  \u001b[33m0:00:03\u001b[0mm0:00:01\u001b[0m00:01\u001b[0m\n",
      "\u001b[?25hDownloading nvidia_cusparselt_cu12-0.7.1-py3-none-manylinux2014_x86_64.whl (287.2 MB)\n",
      "\u001b[2K   \u001b[90m━━━━━━━━━━━━━━━━━━━━━━━━━━━━━━━━━━━━━━━━\u001b[0m \u001b[32m287.2/287.2 MB\u001b[0m \u001b[31m79.9 MB/s\u001b[0m  \u001b[33m0:00:03\u001b[0mm0:00:01\u001b[0m00:01\u001b[0m\n",
      "\u001b[?25hDownloading nvidia_nccl_cu12-2.27.3-py3-none-manylinux2014_x86_64.manylinux_2_17_x86_64.whl (322.4 MB)\n",
      "\u001b[2K   \u001b[90m━━━━━━━━━━━━━━━━━━━━━━━━━━━━━━━━━━━━━━━━\u001b[0m \u001b[32m322.4/322.4 MB\u001b[0m \u001b[31m94.4 MB/s\u001b[0m  \u001b[33m0:00:03\u001b[0mm0:00:01\u001b[0m00:01\u001b[0m\n",
      "\u001b[?25hDownloading nvidia_nvjitlink_cu12-12.8.93-py3-none-manylinux2010_x86_64.manylinux_2_12_x86_64.whl (39.3 MB)\n",
      "\u001b[2K   \u001b[90m━━━━━━━━━━━━━━━━━━━━━━━━━━━━━━━━━━━━━━━━\u001b[0m \u001b[32m39.3/39.3 MB\u001b[0m \u001b[31m145.9 MB/s\u001b[0m  \u001b[33m0:00:00\u001b[0mm0:00:01\u001b[0m\n",
      "\u001b[?25hDownloading nvidia_nvtx_cu12-12.8.90-py3-none-manylinux2014_x86_64.manylinux_2_17_x86_64.whl (89 kB)\n"
     ]
    },
    {
     "name": "stdout",
     "output_type": "stream",
     "text": [
      "Downloading triton-3.4.0-cp311-cp311-manylinux_2_27_x86_64.manylinux_2_28_x86_64.whl (155.5 MB)\n",
      "\u001b[2K   \u001b[90m━━━━━━━━━━━━━━━━━━━━━━━━━━━━━━━━━━━━━━━━\u001b[0m \u001b[32m155.5/155.5 MB\u001b[0m \u001b[31m115.9 MB/s\u001b[0m  \u001b[33m0:00:01\u001b[0m0:00:01\u001b[0m00:01\u001b[0m\n",
      "\u001b[?25hDownloading sympy-1.14.0-py3-none-any.whl (6.3 MB)\n",
      "\u001b[2K   \u001b[90m━━━━━━━━━━━━━━━━━━━━━━━━━━━━━━━━━━━━━━━━\u001b[0m \u001b[32m6.3/6.3 MB\u001b[0m \u001b[31m81.9 MB/s\u001b[0m  \u001b[33m0:00:00\u001b[0m\n",
      "\u001b[?25hDownloading mpmath-1.3.0-py3-none-any.whl (536 kB)\n",
      "\u001b[2K   \u001b[90m━━━━━━━━━━━━━━━━━━━━━━━━━━━━━━━━━━━━━━━━\u001b[0m \u001b[32m536.2/536.2 kB\u001b[0m \u001b[31m31.1 MB/s\u001b[0m  \u001b[33m0:00:00\u001b[0m\n",
      "\u001b[?25hDownloading typing_extensions-4.15.0-py3-none-any.whl (44 kB)\n",
      "Downloading filelock-3.19.1-py3-none-any.whl (15 kB)\n",
      "Downloading networkx-3.5-py3-none-any.whl (2.0 MB)\n",
      "\u001b[2K   \u001b[90m━━━━━━━━━━━━━━━━━━━━━━━━━━━━━━━━━━━━━━━━\u001b[0m \u001b[32m2.0/2.0 MB\u001b[0m \u001b[31m88.2 MB/s\u001b[0m  \u001b[33m0:00:00\u001b[0m\n",
      "\u001b[?25hInstalling collected packages: nvidia-cusparselt-cu12, mpmath, typing-extensions, triton, sympy, nvidia-nvtx-cu12, nvidia-nvjitlink-cu12, nvidia-nccl-cu12, nvidia-curand-cu12, nvidia-cufile-cu12, nvidia-cuda-runtime-cu12, nvidia-cuda-nvrtc-cu12, nvidia-cuda-cupti-cu12, nvidia-cublas-cu12, networkx, filelock, nvidia-cusparse-cu12, nvidia-cufft-cu12, nvidia-cudnn-cu12, nvidia-cusolver-cu12, torch\n",
      "\u001b[2K   \u001b[91m━━━━━\u001b[0m\u001b[91m╸\u001b[0m\u001b[90m━━━━━━━━━━━━━━━━━━━━━━━━━━━━━━━━━━\u001b[0m \u001b[32m 3/21\u001b[0m [triton]\u001b[33m  WARNING: The scripts proton and proton-viewer are installed in '/home/student/.local/bin' which is not on PATH.\n",
      "  Consider adding this directory to PATH or, if you prefer to suppress this warning, use --no-warn-script-location.\u001b[0m\u001b[33m\n",
      "\u001b[2K   \u001b[91m━━━━━━━\u001b[0m\u001b[91m╸\u001b[0m\u001b[90m━━━━━━━━━━━━━━━━━━━━━━━━━━━━━━━━\u001b[0m \u001b[32m 4/21\u001b[0m [sympy]\u001b[33m  WARNING: The script isympy is installed in '/home/student/.local/bin' which is not on PATH.\n",
      "  Consider adding this directory to PATH or, if you prefer to suppress this warning, use --no-warn-script-location.\u001b[0m\u001b[33m\n",
      "\u001b[2K   \u001b[91m━━━━━━━━━━━━━━━━━━━━━━━━━━━━━━━━━━━━━━\u001b[0m\u001b[90m╺\u001b[0m\u001b[90m━\u001b[0m \u001b[32m20/21\u001b[0m [torch]-cusolver-cu12]2]2]\u001b[33m  WARNING: The scripts torchfrtrace and torchrun are installed in '/home/student/.local/bin' which is not on PATH.\n",
      "  Consider adding this directory to PATH or, if you prefer to suppress this warning, use --no-warn-script-location.\u001b[0m\u001b[33m\n",
      "\u001b[2K   \u001b[90m━━━━━━━━━━━━━━━━━━━━━━━━━━━━━━━━━━━━━━━━\u001b[0m \u001b[32m21/21\u001b[0m [torch]\n",
      "\u001b[1A\u001b[2KSuccessfully installed filelock-3.19.1 mpmath-1.3.0 networkx-3.5 nvidia-cublas-cu12-12.8.4.1 nvidia-cuda-cupti-cu12-12.8.90 nvidia-cuda-nvrtc-cu12-12.8.93 nvidia-cuda-runtime-cu12-12.8.90 nvidia-cudnn-cu12-9.10.2.21 nvidia-cufft-cu12-11.3.3.83 nvidia-cufile-cu12-1.13.1.3 nvidia-curand-cu12-10.3.9.90 nvidia-cusolver-cu12-11.7.3.90 nvidia-cusparse-cu12-12.5.8.93 nvidia-cusparselt-cu12-0.7.1 nvidia-nccl-cu12-2.27.3 nvidia-nvjitlink-cu12-12.8.93 nvidia-nvtx-cu12-12.8.90 sympy-1.14.0 torch-2.8.0 triton-3.4.0 typing-extensions-4.15.0\n"
     ]
    }
   ],
   "source": [
    "!python3 -m pip install --upgrade pip\n",
    "!pip install torch"
   ]
  },
  {
   "cell_type": "code",
   "execution_count": 19,
   "metadata": {},
   "outputs": [],
   "source": [
    "import numpy as np\n",
    "import torch\n",
    "import matplotlib.pyplot as plt\n",
    "import pandas as pd\n",
    "from collections import deque\n",
    "from tqdm import tqdm\n",
    "from ddpg_agent import Agent\n",
    "import pickle\n",
    "import os\n",
    "from datetime import datetime"
   ]
  },
  {
   "cell_type": "code",
   "execution_count": 20,
   "metadata": {},
   "outputs": [],
   "source": [
    "def save_checkpoint(agent, scores, episode, best_score, checkpoint_dir='checkpoints'):\n",
    "    \"\"\"Save training checkpoint with all necessary information.\"\"\"\n",
    "    if not os.path.exists(checkpoint_dir):\n",
    "        os.makedirs(checkpoint_dir)\n",
    "    \n",
    "    timestamp = datetime.now().strftime(\"%Y%m%d_%H%M%S\")\n",
    "    \n",
    "    checkpoint = {\n",
    "        'episode': episode,\n",
    "        'scores': scores,\n",
    "        'best_score': best_score,\n",
    "        'actor_state_dict': agent.actor_local.state_dict(),\n",
    "        'critic_state_dict': agent.critic_local.state_dict(),\n",
    "        'actor_target_state_dict': agent.actor_target.state_dict(),\n",
    "        'critic_target_state_dict': agent.critic_target.state_dict(),\n",
    "        'actor_optimizer_state_dict': agent.actor_optimizer.state_dict(),\n",
    "        'critic_optimizer_state_dict': agent.critic_optimizer.state_dict(),\n",
    "    }\n",
    "    \n",
    "    # Save main checkpoint\n",
    "    checkpoint_path = os.path.join(checkpoint_dir, f'checkpoint_ep{episode}_{timestamp}.pth')\n",
    "    torch.save(checkpoint, checkpoint_path)\n",
    "    \n",
    "    # Also save as 'latest' for easy recovery\n",
    "    latest_path = os.path.join(checkpoint_dir, 'checkpoint_latest.pth')\n",
    "    torch.save(checkpoint, latest_path)\n",
    "    \n",
    "    # If this is the best score, save it separately\n",
    "    if best_score >= 30.0 or (len(scores) > 0 and np.mean(scores[-100:]) == best_score):\n",
    "        best_path = os.path.join(checkpoint_dir, f'checkpoint_best_score{best_score:.2f}.pth')\n",
    "        torch.save(checkpoint, best_path)\n",
    "    \n",
    "    return checkpoint_path\n"
   ]
  },
  {
   "cell_type": "code",
   "execution_count": 27,
   "metadata": {},
   "outputs": [],
   "source": [
    "def load_checkpoint(agent, checkpoint_path):\n",
    "    \"\"\"Load training checkpoint and resume training.\"\"\"\n",
    "    # Add weights_only=False to handle PyTorch 2.6+ security\n",
    "    checkpoint = torch.load(checkpoint_path, weights_only=False)\n",
    "    \n",
    "    agent.actor_local.load_state_dict(checkpoint['actor_state_dict'])\n",
    "    agent.critic_local.load_state_dict(checkpoint['critic_state_dict'])\n",
    "    agent.actor_target.load_state_dict(checkpoint['actor_target_state_dict'])\n",
    "    agent.critic_target.load_state_dict(checkpoint['critic_target_state_dict'])\n",
    "    agent.actor_optimizer.load_state_dict(checkpoint['actor_optimizer_state_dict'])\n",
    "    agent.critic_optimizer.load_state_dict(checkpoint['critic_optimizer_state_dict'])\n",
    "    \n",
    "    return checkpoint['episode'], checkpoint['scores'], checkpoint['best_score']"
   ]
  },
  {
   "cell_type": "code",
   "execution_count": 21,
   "metadata": {},
   "outputs": [],
   "source": [
    "def load_checkpoint(agent, checkpoint_path):\n",
    "    \"\"\"Load training checkpoint and resume training.\"\"\"\n",
    "    checkpoint = torch.load(checkpoint_path)\n",
    "    \n",
    "    agent.actor_local.load_state_dict(checkpoint['actor_state_dict'])\n",
    "    agent.critic_local.load_state_dict(checkpoint['critic_state_dict'])\n",
    "    agent.actor_target.load_state_dict(checkpoint['actor_target_state_dict'])\n",
    "    agent.critic_target.load_state_dict(checkpoint['critic_target_state_dict'])\n",
    "    agent.actor_optimizer.load_state_dict(checkpoint['actor_optimizer_state_dict'])\n",
    "    agent.critic_optimizer.load_state_dict(checkpoint['critic_optimizer_state_dict'])\n",
    "    \n",
    "    return checkpoint['episode'], checkpoint['scores'], checkpoint['best_score']"
   ]
  },
  {
   "cell_type": "code",
   "execution_count": 22,
   "metadata": {},
   "outputs": [],
   "source": [
    "def ddpg_train_with_checkpoints(env, agent, brain_name, n_episodes=300, max_t=1000, \n",
    "                                print_every=10, save_every=5, checkpoint_dir='checkpoints',\n",
    "                                resume_from=None):\n",
    "    \"\"\"\n",
    "    Enhanced DDPG training with checkpoint saving and recovery.\n",
    "    \n",
    "    Args:\n",
    "        save_every: Save checkpoint every N episodes\n",
    "        resume_from: Path to checkpoint to resume from\n",
    "    \"\"\"\n",
    "    env_info = env.reset(train_mode=True)[brain_name]\n",
    "    num_agents = len(env_info.agents)\n",
    "    \n",
    "    scores_deque = deque(maxlen=100)\n",
    "    scores_list = []\n",
    "    best_score = 0.0\n",
    "    start_episode = 1\n",
    "    \n",
    "    # Resume from checkpoint if specified\n",
    "    if resume_from and os.path.exists(resume_from):\n",
    "        print(f\"📂 Resuming from checkpoint: {resume_from}\")\n",
    "        start_episode, scores_list, best_score = load_checkpoint(agent, resume_from)\n",
    "        scores_deque.extend(scores_list[-100:])  # Restore the deque\n",
    "        start_episode += 1  # Start from next episode\n",
    "        print(f\"   Resumed from episode {start_episode-1}, best score: {best_score:.2f}\")\n",
    "    \n",
    "    # Create progress bar\n",
    "    remaining_episodes = n_episodes - start_episode + 1\n",
    "    episode_bar = tqdm(range(start_episode, n_episodes+1), \n",
    "                       desc='Training', unit='episode',\n",
    "                       total=remaining_episodes)\n",
    "    \n",
    "    # Track training metrics\n",
    "    episode_times = []\n",
    "    buffer_sizes = []\n",
    "    \n",
    "    for i_episode in episode_bar:\n",
    "        start_time = datetime.now()\n",
    "        env_info = env.reset(train_mode=True)[brain_name]\n",
    "        states = env_info.vector_observations\n",
    "        agent.reset()\n",
    "        scores = np.zeros(num_agents)\n",
    "        \n",
    "        for t in range(max_t):\n",
    "            # Get actions for all agents\n",
    "            actions = []\n",
    "            for state in states:\n",
    "                action = agent.act(state)\n",
    "                if isinstance(action, np.ndarray):\n",
    "                    action = action.flatten()\n",
    "                else:\n",
    "                    action = np.array(action).flatten()\n",
    "                actions.append(action)\n",
    "            \n",
    "            actions_flat = np.concatenate(actions)\n",
    "            \n",
    "            # Step environment\n",
    "            env_info = env.step(actions_flat)[brain_name]\n",
    "            next_states = env_info.vector_observations\n",
    "            rewards = env_info.rewards\n",
    "            dones = env_info.local_done\n",
    "            \n",
    "            # Store experiences from all agents\n",
    "            for i in range(num_agents):\n",
    "                agent.step(states[i], actions[i], rewards[i], next_states[i], dones[i])\n",
    "            \n",
    "            states = next_states\n",
    "            scores += rewards\n",
    "            \n",
    "            if np.any(dones):\n",
    "                break\n",
    "        \n",
    "        # Record metrics\n",
    "        episode_time = (datetime.now() - start_time).total_seconds()\n",
    "        episode_times.append(episode_time)\n",
    "        buffer_sizes.append(len(agent.memory))\n",
    "        \n",
    "        # Record scores\n",
    "        avg_score = np.mean(scores)\n",
    "        scores_deque.append(avg_score)\n",
    "        scores_list.append(avg_score)\n",
    "        \n",
    "        # Update best score\n",
    "        current_avg = np.mean(scores_deque)\n",
    "        if current_avg > best_score:\n",
    "            best_score = current_avg\n",
    "        \n",
    "        # Update progress bar\n",
    "        episode_bar.set_postfix({\n",
    "            'Score': f'{avg_score:.2f}',\n",
    "            'Avg(100)': f'{current_avg:.2f}',\n",
    "            'Best': f'{best_score:.2f}',\n",
    "            'Time': f'{episode_time:.1f}s',\n",
    "            'Buffer': f'{len(agent.memory)/1e6:.2f}M'\n",
    "        })\n",
    "        \n",
    "        # Periodic printing\n",
    "        if i_episode % print_every == 0:\n",
    "            avg_time = np.mean(episode_times[-10:]) if len(episode_times) >= 10 else episode_time\n",
    "            tqdm.write(f'Episode {i_episode} | Avg Score: {current_avg:.2f} | '\n",
    "                      f'Episode Score: {avg_score:.2f} | Avg Time: {avg_time:.1f}s')\n",
    "        \n",
    "        # Save checkpoint\n",
    "        if i_episode % save_every == 0:\n",
    "            checkpoint_path = save_checkpoint(agent, scores_list, i_episode, best_score, checkpoint_dir)\n",
    "            tqdm.write(f'💾 Checkpoint saved: {checkpoint_path}')\n",
    "        \n",
    "        # Check if solved\n",
    "        if current_avg >= 30.0:\n",
    "            tqdm.write(f'\\n🎉 Environment solved in {i_episode-100} episodes! '\n",
    "                      f'Average Score: {current_avg:.2f}')\n",
    "            # Save final checkpoint\n",
    "            save_checkpoint(agent, scores_list, i_episode, best_score, checkpoint_dir)\n",
    "            # Save standalone model files\n",
    "            torch.save(agent.actor_local.state_dict(), 'checkpoint_actor_solved.pth')\n",
    "            torch.save(agent.critic_local.state_dict(), 'checkpoint_critic_solved.pth')\n",
    "            episode_bar.close()\n",
    "            break\n",
    "    \n",
    "    episode_bar.close()\n",
    "    \n",
    "    # Print training summary\n",
    "    print(\"\\n\" + \"=\"*60)\n",
    "    print(\"📊 Training Summary:\")\n",
    "    print(f\"   Total Episodes: {len(scores_list)}\")\n",
    "    print(f\"   Best Average Score: {best_score:.2f}\")\n",
    "    print(f\"   Final Average Score: {np.mean(scores_deque):.2f}\")\n",
    "    print(f\"   Average Episode Time: {np.mean(episode_times):.1f}s\")\n",
    "    print(f\"   Final Buffer Size: {len(agent.memory)/1e6:.2f}M\")\n",
    "    print(\"=\"*60)\n",
    "    \n",
    "    return scores_list"
   ]
  },
  {
   "cell_type": "code",
   "execution_count": 23,
   "metadata": {
    "scrolled": false
   },
   "outputs": [],
   "source": [
    "def find_best_checkpoint(checkpoint_dir='checkpoints'):\n",
    "    \"\"\"Find and load the best checkpoint based on score.\"\"\"\n",
    "    if not os.path.exists(checkpoint_dir):\n",
    "        print(f\"❌ Checkpoint directory '{checkpoint_dir}' not found\")\n",
    "        return None\n",
    "    \n",
    "    best_score = -float('inf')\n",
    "    best_checkpoint = None\n",
    "    \n",
    "    for filename in os.listdir(checkpoint_dir):\n",
    "        if filename.startswith('checkpoint_') and filename.endswith('.pth'):\n",
    "            filepath = os.path.join(checkpoint_dir, filename)\n",
    "            try:\n",
    "                checkpoint = torch.load(filepath)\n",
    "                avg_score = np.mean(checkpoint['scores'][-100:]) if len(checkpoint['scores']) >= 100 else np.mean(checkpoint['scores'])\n",
    "                if avg_score > best_score:\n",
    "                    best_score = avg_score\n",
    "                    best_checkpoint = filepath\n",
    "            except:\n",
    "                continue\n",
    "    \n",
    "    if best_checkpoint:\n",
    "        print(f\"✅ Best checkpoint found: {best_checkpoint}\")\n",
    "        print(f\"   Score: {best_score:.2f}\")\n",
    "    \n",
    "    return best_checkpoint"
   ]
  },
  {
   "cell_type": "code",
   "execution_count": 24,
   "metadata": {},
   "outputs": [],
   "source": [
    "def analyze_training_progress(checkpoint_dir='checkpoints'):\n",
    "    \"\"\"Analyze all checkpoints and show training progress.\"\"\"\n",
    "    checkpoints_data = []\n",
    "    \n",
    "    for filename in os.listdir(checkpoint_dir):\n",
    "        if filename.startswith('checkpoint_ep') and filename.endswith('.pth'):\n",
    "            filepath = os.path.join(checkpoint_dir, filename)\n",
    "            try:\n",
    "                checkpoint = torch.load(filepath)\n",
    "                episode = checkpoint['episode']\n",
    "                scores = checkpoint['scores']\n",
    "                avg_score = np.mean(scores[-100:]) if len(scores) >= 100 else np.mean(scores)\n",
    "                last_score = scores[-1] if scores else 0\n",
    "                \n",
    "                checkpoints_data.append({\n",
    "                    'episode': episode,\n",
    "                    'avg_score': avg_score,\n",
    "                    'last_score': last_score,\n",
    "                    'filename': filename\n",
    "                })\n",
    "            except:\n",
    "                continue\n",
    "    \n",
    "    if checkpoints_data:\n",
    "        df = pd.DataFrame(checkpoints_data).sort_values('episode')\n",
    "        print(\"\\n📈 Training Progress Analysis:\")\n",
    "        print(df.to_string(index=False))\n",
    "        \n",
    "        # Plot progress\n",
    "        plt.figure(figsize=(12, 4))\n",
    "        plt.subplot(1, 2, 1)\n",
    "        plt.plot(df['episode'], df['avg_score'], 'b-', label='Avg Score (100 ep)')\n",
    "        plt.plot(df['episode'], df['last_score'], 'r.', alpha=0.5, label='Episode Score')\n",
    "        plt.axhline(y=30, color='g', linestyle='--', label='Target')\n",
    "        plt.xlabel('Episode')\n",
    "        plt.ylabel('Score')\n",
    "        plt.title('Checkpoint Progress')\n",
    "        plt.legend()\n",
    "        plt.grid(True, alpha=0.3)\n",
    "        \n",
    "        plt.subplot(1, 2, 2)\n",
    "        plt.plot(df['episode'], df['avg_score'], 'b-', linewidth=2)\n",
    "        plt.fill_between(df['episode'], df['avg_score'] - 5, df['avg_score'] + 5, alpha=0.3)\n",
    "        plt.axhline(y=30, color='g', linestyle='--')\n",
    "        plt.xlabel('Episode')\n",
    "        plt.ylabel('Average Score')\n",
    "        plt.title('Smoothed Progress')\n",
    "        plt.grid(True, alpha=0.3)\n",
    "        \n",
    "        plt.tight_layout()\n",
    "        plt.savefig('checkpoint_analysis.png', dpi=100, bbox_inches='tight')\n",
    "        plt.show()\n",
    "        \n",
    "        return df\n",
    "    else:\n",
    "        print(\"❌ No checkpoints found for analysis\")\n",
    "        return None"
   ]
  },
  {
   "cell_type": "markdown",
   "metadata": {},
   "source": [
    "# Run 1"
   ]
  },
  {
   "cell_type": "code",
   "execution_count": null,
   "metadata": {},
   "outputs": [
    {
     "name": "stdout",
     "output_type": "stream",
     "text": [
      "🚀 Enhanced DDPG Training with Checkpointing\n",
      "============================================================\n",
      "📊 Environment: 20 agents, state_size=33, action_size=4\n",
      "Starting new training with checkpointing...\n"
     ]
    },
    {
     "name": "stderr",
     "output_type": "stream",
     "text": [
      "Training:   2%|▏         | 5/300 [10:09<10:03:30, 122.75s/episode, Score=2.87, Avg(100)=1.40, Best=1.40, Time=125.3s, Buffer=0.10M]"
     ]
    },
    {
     "name": "stdout",
     "output_type": "stream",
     "text": [
      "💾 Checkpoint saved: checkpoints/checkpoint_ep5_20250903_231443.pth\n"
     ]
    },
    {
     "name": "stderr",
     "output_type": "stream",
     "text": [
      "Training:   3%|▎         | 10/300 [21:03<10:35:28, 131.48s/episode, Score=6.85, Avg(100)=3.41, Best=3.41, Time=137.0s, Buffer=0.20M]"
     ]
    },
    {
     "name": "stdout",
     "output_type": "stream",
     "text": [
      "Episode 10 | Avg Score: 3.41 | Episode Score: 6.85 | Avg Time: 126.3s\n",
      "💾 Checkpoint saved: checkpoints/checkpoint_ep10_20250903_232537.pth\n"
     ]
    },
    {
     "name": "stderr",
     "output_type": "stream",
     "text": [
      "Training:   5%|▌         | 15/300 [33:17<11:28:44, 145.00s/episode, Score=13.02, Avg(100)=5.73, Best=5.73, Time=149.4s, Buffer=0.30M]"
     ]
    },
    {
     "name": "stdout",
     "output_type": "stream",
     "text": [
      "💾 Checkpoint saved: checkpoints/checkpoint_ep15_20250903_233751.pth\n"
     ]
    },
    {
     "name": "stderr",
     "output_type": "stream",
     "text": [
      "Training:   7%|▋         | 20/300 [46:26<12:14:26, 157.38s/episode, Score=17.61, Avg(100)=8.29, Best=8.29, Time=163.9s, Buffer=0.40M]"
     ]
    },
    {
     "name": "stdout",
     "output_type": "stream",
     "text": [
      "Episode 20 | Avg Score: 8.29 | Episode Score: 17.61 | Avg Time: 152.3s\n",
      "💾 Checkpoint saved: checkpoints/checkpoint_ep20_20250903_235100.pth\n"
     ]
    },
    {
     "name": "stderr",
     "output_type": "stream",
     "text": [
      "Training:   8%|▊         | 25/300 [1:01:06<13:24:07, 175.45s/episode, Score=20.13, Avg(100)=10.19, Best=10.19, Time=184.8s, Buffer=0.50M]"
     ]
    },
    {
     "name": "stdout",
     "output_type": "stream",
     "text": [
      "💾 Checkpoint saved: checkpoints/checkpoint_ep25_20250904_000541.pth\n"
     ]
    },
    {
     "name": "stderr",
     "output_type": "stream",
     "text": [
      "Training:  10%|█         | 30/300 [1:17:45<14:54:12, 198.71s/episode, Score=20.90, Avg(100)=11.77, Best=11.77, Time=210.1s, Buffer=0.60M]"
     ]
    },
    {
     "name": "stdout",
     "output_type": "stream",
     "text": [
      "Episode 30 | Avg Score: 11.77 | Episode Score: 20.90 | Avg Time: 187.9s\n",
      "💾 Checkpoint saved: checkpoints/checkpoint_ep30_20250904_002220.pth\n"
     ]
    },
    {
     "name": "stderr",
     "output_type": "stream",
     "text": [
      "Training:  12%|█▏        | 35/300 [1:36:52<16:47:07, 228.03s/episode, Score=25.68, Avg(100)=13.47, Best=13.47, Time=245.1s, Buffer=0.70M]"
     ]
    },
    {
     "name": "stdout",
     "output_type": "stream",
     "text": [
      "💾 Checkpoint saved: checkpoints/checkpoint_ep35_20250904_004126.pth\n"
     ]
    },
    {
     "name": "stderr",
     "output_type": "stream",
     "text": [
      "Training:  13%|█▎        | 40/300 [1:59:16<19:06:02, 264.47s/episode, Score=30.93, Avg(100)=15.39, Best=15.39, Time=277.6s, Buffer=0.80M]"
     ]
    },
    {
     "name": "stdout",
     "output_type": "stream",
     "text": [
      "Episode 40 | Avg Score: 15.39 | Episode Score: 30.93 | Avg Time: 249.0s\n",
      "💾 Checkpoint saved: checkpoints/checkpoint_ep40_20250904_010350.pth\n"
     ]
    },
    {
     "name": "stderr",
     "output_type": "stream",
     "text": [
      "Training:  15%|█▌        | 45/300 [2:23:41<20:40:27, 291.87s/episode, Score=34.98, Avg(100)=17.37, Best=17.37, Time=303.3s, Buffer=0.90M]"
     ]
    },
    {
     "name": "stdout",
     "output_type": "stream",
     "text": [
      "💾 Checkpoint saved: checkpoints/checkpoint_ep45_20250904_012816.pth\n"
     ]
    },
    {
     "name": "stderr",
     "output_type": "stream",
     "text": [
      "Training:  17%|█▋        | 50/300 [2:49:53<21:41:52, 312.45s/episode, Score=34.87, Avg(100)=19.18, Best=19.18, Time=321.5s, Buffer=1.00M]"
     ]
    },
    {
     "name": "stdout",
     "output_type": "stream",
     "text": [
      "Episode 50 | Avg Score: 19.18 | Episode Score: 34.87 | Avg Time: 303.7s\n",
      "💾 Checkpoint saved: checkpoints/checkpoint_ep50_20250904_015427.pth\n"
     ]
    },
    {
     "name": "stderr",
     "output_type": "stream",
     "text": [
      "Training:  18%|█▊        | 55/300 [3:18:04<23:02:53, 338.67s/episode, Score=34.71, Avg(100)=20.62, Best=20.62, Time=353.8s, Buffer=1.00M]"
     ]
    },
    {
     "name": "stdout",
     "output_type": "stream",
     "text": [
      "💾 Checkpoint saved: checkpoints/checkpoint_ep55_20250904_022239.pth\n"
     ]
    },
    {
     "name": "stderr",
     "output_type": "stream",
     "text": [
      "Training:  20%|██        | 60/300 [3:46:54<22:51:55, 342.98s/episode, Score=36.88, Avg(100)=21.98, Best=21.98, Time=336.1s, Buffer=1.00M]"
     ]
    },
    {
     "name": "stdout",
     "output_type": "stream",
     "text": [
      "Episode 60 | Avg Score: 21.98 | Episode Score: 36.88 | Avg Time: 342.1s\n",
      "💾 Checkpoint saved: checkpoints/checkpoint_ep60_20250904_025128.pth\n"
     ]
    },
    {
     "name": "stderr",
     "output_type": "stream",
     "text": [
      "Training:  22%|██▏       | 65/300 [4:14:49<22:02:37, 337.69s/episode, Score=35.51, Avg(100)=23.10, Best=23.10, Time=343.7s, Buffer=1.00M]"
     ]
    },
    {
     "name": "stdout",
     "output_type": "stream",
     "text": [
      "💾 Checkpoint saved: checkpoints/checkpoint_ep65_20250904_031923.pth\n"
     ]
    },
    {
     "name": "stderr",
     "output_type": "stream",
     "text": [
      "Training:  23%|██▎       | 70/300 [4:43:39<22:02:08, 344.91s/episode, Score=35.79, Avg(100)=24.04, Best=24.04, Time=349.3s, Buffer=1.00M]"
     ]
    },
    {
     "name": "stdout",
     "output_type": "stream",
     "text": [
      "Episode 70 | Avg Score: 24.04 | Episode Score: 35.79 | Avg Time: 340.5s\n",
      "💾 Checkpoint saved: checkpoints/checkpoint_ep70_20250904_034813.pth\n"
     ]
    },
    {
     "name": "stderr",
     "output_type": "stream",
     "text": [
      "Training:  25%|██▌       | 75/300 [5:13:36<22:46:58, 364.53s/episode, Score=36.40, Avg(100)=24.87, Best=24.87, Time=394.3s, Buffer=1.00M]"
     ]
    },
    {
     "name": "stdout",
     "output_type": "stream",
     "text": [
      "💾 Checkpoint saved: checkpoints/checkpoint_ep75_20250904_041811.pth\n"
     ]
    },
    {
     "name": "stderr",
     "output_type": "stream",
     "text": [
      "Training:  27%|██▋       | 80/300 [5:45:43<23:20:27, 381.94s/episode, Score=33.76, Avg(100)=25.53, Best=25.53, Time=387.8s, Buffer=1.00M]"
     ]
    },
    {
     "name": "stdout",
     "output_type": "stream",
     "text": [
      "Episode 80 | Avg Score: 25.53 | Episode Score: 33.76 | Avg Time: 372.4s\n",
      "💾 Checkpoint saved: checkpoints/checkpoint_ep80_20250904_045018.pth\n"
     ]
    },
    {
     "name": "stderr",
     "output_type": "stream",
     "text": [
      "Training:  28%|██▊       | 85/300 [6:16:43<21:45:09, 364.23s/episode, Score=35.47, Avg(100)=26.09, Best=26.09, Time=320.7s, Buffer=1.00M]"
     ]
    },
    {
     "name": "stdout",
     "output_type": "stream",
     "text": [
      "💾 Checkpoint saved: checkpoints/checkpoint_ep85_20250904_052117.pth\n"
     ]
    },
    {
     "name": "stderr",
     "output_type": "stream",
     "text": [
      "Training:  30%|███       | 90/300 [6:44:04<19:30:57, 334.56s/episode, Score=33.42, Avg(100)=26.55, Best=26.55, Time=327.6s, Buffer=1.00M]"
     ]
    },
    {
     "name": "stdout",
     "output_type": "stream",
     "text": [
      "Episode 90 | Avg Score: 26.55 | Episode Score: 33.42 | Avg Time: 350.1s\n",
      "💾 Checkpoint saved: checkpoints/checkpoint_ep90_20250904_054839.pth\n"
     ]
    },
    {
     "name": "stderr",
     "output_type": "stream",
     "text": [
      "Training:  31%|███       | 93/300 [7:00:49<19:20:27, 336.37s/episode, Score=32.71, Avg(100)=26.79, Best=26.79, Time=347.1s, Buffer=1.00M]"
     ]
    }
   ],
   "source": [
    "print(\"🚀 Enhanced DDPG Training with Checkpointing\")\n",
    "print(\"=\" * 60)\n",
    "\n",
    "# Initialize environment info\n",
    "env_info = env.reset(train_mode=True)[brain_name]\n",
    "num_agents = len(env_info.agents)\n",
    "state_size = env_info.vector_observations.shape[1]\n",
    "action_size = brain.vector_action_space_size\n",
    "\n",
    "print(f\"📊 Environment: {num_agents} agents, state_size={state_size}, action_size={action_size}\")\n",
    "\n",
    "# Check for existing checkpoints\n",
    "if os.path.exists('checkpoints'):\n",
    "    print(\"\\n📂 Found existing checkpoints directory\")\n",
    "    best_checkpoint = find_best_checkpoint('checkpoints')\n",
    "    \n",
    "    if best_checkpoint:\n",
    "        resume = input(\"Resume from best checkpoint? (y/n): \").lower() == 'y'\n",
    "        if resume:\n",
    "            agent = Agent(state_size=state_size, action_size=action_size, random_seed=42)\n",
    "            scores = ddpg_train_with_checkpoints(\n",
    "                env, agent, brain_name, \n",
    "                n_episodes=300, \n",
    "                max_t=1000,\n",
    "                print_every=10,\n",
    "                save_every=5,\n",
    "                resume_from=best_checkpoint\n",
    "            )\n",
    "        else:\n",
    "            print(\"Starting fresh training...\")\n",
    "            agent = Agent(state_size=state_size, action_size=action_size, random_seed=42)\n",
    "            scores = ddpg_train_with_checkpoints(\n",
    "                env, agent, brain_name, \n",
    "                n_episodes=300, \n",
    "                max_t=1000,\n",
    "                print_every=10,\n",
    "                save_every=5\n",
    "            )\n",
    "    else:\n",
    "        agent = Agent(state_size=state_size, action_size=action_size, random_seed=42)\n",
    "        scores = ddpg_train_with_checkpoints(\n",
    "            env, agent, brain_name, \n",
    "            n_episodes=300, \n",
    "            max_t=1000,\n",
    "            print_every=10,\n",
    "            save_every=5\n",
    "        )\n",
    "else:\n",
    "    print(\"Starting new training with checkpointing...\")\n",
    "    agent = Agent(state_size=state_size, action_size=action_size, random_seed=42)\n",
    "    scores = ddpg_train_with_checkpoints(\n",
    "        env, agent, brain_name, \n",
    "        n_episodes=300, \n",
    "        max_t=1000,\n",
    "        print_every=10,\n",
    "        save_every=5  \n",
    "    )\n",
    "\n",
    "# Analyze all checkpoints\n",
    "print(\"\\n📊 Analyzing all checkpoints...\")\n",
    "checkpoint_df = analyze_training_progress('checkpoints')\n",
    "\n",
    "print(\"\\n✅ Training complete!\")"
   ]
  },
  {
   "cell_type": "markdown",
   "metadata": {},
   "source": [
    "# Run 2"
   ]
  },
  {
   "cell_type": "code",
   "execution_count": 28,
   "metadata": {},
   "outputs": [
    {
     "name": "stdout",
     "output_type": "stream",
     "text": [
      "✅ Best checkpoint loaded!\n",
      "  Episode: 90\n",
      "  Best score: 26.55\n",
      "  Last 5 scores: [35.71649920167401, 33.77099924515933, 34.16899923626333, 34.52299922835082, 33.424499252904205]\n",
      "  Average of last 100: 26.55\n",
      "\n",
      "✅ Model loaded! Ready to continue training from episode 91\n",
      "   Only need to improve by 3.45 points to solve!\n"
     ]
    }
   ],
   "source": [
    "# Load the best checkpoint\n",
    "best_checkpoint_path = 'checkpoints/checkpoint_best_score26.55.pth'\n",
    "checkpoint = torch.load(best_checkpoint_path, weights_only=False)\n",
    "\n",
    "print(f\"✅ Best checkpoint loaded!\")\n",
    "print(f\"  Episode: {checkpoint['episode']}\")\n",
    "print(f\"  Best score: {checkpoint['best_score']:.2f}\")\n",
    "print(f\"  Last 5 scores: {checkpoint['scores'][-5:]}\")\n",
    "print(f\"  Average of last 100: {np.mean(checkpoint['scores'][-100:]):.2f}\")\n",
    "\n",
    "# Create and load the agent\n",
    "from ddpg_agent import Agent\n",
    "\n",
    "agent = Agent(state_size=33, action_size=4, random_seed=42)\n",
    "\n",
    "# Load all weights\n",
    "agent.actor_local.load_state_dict(checkpoint['actor_state_dict'])\n",
    "agent.critic_local.load_state_dict(checkpoint['critic_state_dict'])\n",
    "agent.actor_target.load_state_dict(checkpoint['actor_target_state_dict'])\n",
    "agent.critic_target.load_state_dict(checkpoint['critic_target_state_dict'])\n",
    "agent.actor_optimizer.load_state_dict(checkpoint['actor_optimizer_state_dict'])\n",
    "agent.critic_optimizer.load_state_dict(checkpoint['critic_optimizer_state_dict'])\n",
    "\n",
    "print(f\"\\n✅ Model loaded! Ready to continue training from episode {checkpoint['episode'] + 1}\")\n",
    "print(f\"   Only need to improve by {30.0 - checkpoint['best_score']:.2f} points to solve!\")"
   ]
  },
  {
   "cell_type": "code",
   "execution_count": 29,
   "metadata": {},
   "outputs": [
    {
     "name": "stdout",
     "output_type": "stream",
     "text": [
      "📂 Resuming from checkpoint: checkpoints/checkpoint_best_score26.55.pth\n",
      "   Resumed from episode 90, best score: 26.55\n"
     ]
    },
    {
     "name": "stderr",
     "output_type": "stream",
     "text": [
      "Training:   2%|▏         | 5/210 [10:07<6:58:18, 122.43s/episode, Score=30.32, Avg(100)=26.29, Best=26.55, Time=124.7s, Buffer=0.10M]"
     ]
    },
    {
     "name": "stdout",
     "output_type": "stream",
     "text": [
      "Episode 95 | Avg Score: 26.29 | Episode Score: 30.32 | Avg Time: 124.7s\n",
      "💾 Checkpoint saved: checkpoints/checkpoint_ep95_20250904_110102.pth\n"
     ]
    },
    {
     "name": "stderr",
     "output_type": "stream",
     "text": [
      "Training:   5%|▍         | 10/210 [21:01<7:16:52, 131.06s/episode, Score=33.29, Avg(100)=26.59, Best=26.59, Time=136.1s, Buffer=0.20M]"
     ]
    },
    {
     "name": "stdout",
     "output_type": "stream",
     "text": [
      "Episode 100 | Avg Score: 26.59 | Episode Score: 33.29 | Avg Time: 126.1s\n",
      "💾 Checkpoint saved: checkpoints/checkpoint_ep100_20250904_111155.pth\n"
     ]
    },
    {
     "name": "stderr",
     "output_type": "stream",
     "text": [
      "Training:   7%|▋         | 15/210 [33:09<7:51:20, 145.03s/episode, Score=33.02, Avg(100)=28.15, Best=28.15, Time=151.7s, Buffer=0.30M]"
     ]
    },
    {
     "name": "stdout",
     "output_type": "stream",
     "text": [
      "Episode 105 | Avg Score: 28.15 | Episode Score: 33.02 | Avg Time: 138.2s\n",
      "💾 Checkpoint saved: checkpoints/checkpoint_ep105_20250904_112404.pth\n"
     ]
    },
    {
     "name": "stderr",
     "output_type": "stream",
     "text": [
      "Training:  10%|▉         | 20/210 [46:44<8:33:15, 162.08s/episode, Score=34.20, Avg(100)=29.60, Best=29.60, Time=170.1s, Buffer=0.40M]"
     ]
    },
    {
     "name": "stdout",
     "output_type": "stream",
     "text": [
      "Episode 110 | Avg Score: 29.60 | Episode Score: 34.20 | Avg Time: 154.3s\n",
      "💾 Checkpoint saved: checkpoints/checkpoint_ep110_20250904_113738.pth\n"
     ]
    },
    {
     "name": "stderr",
     "output_type": "stream",
     "text": [
      "Training:  10%|█         | 21/210 [52:36<7:53:25, 150.29s/episode, Score=33.57, Avg(100)=30.11, Best=30.11, Time=178.3s, Buffer=0.44M]"
     ]
    },
    {
     "name": "stdout",
     "output_type": "stream",
     "text": [
      "\n",
      "🎉 Environment solved in 12 episodes! Average Score: 30.11\n",
      "\n",
      "============================================================\n",
      "📊 Training Summary:\n",
      "   Total Episodes: 112\n",
      "   Best Average Score: 30.11\n",
      "   Final Average Score: 30.11\n",
      "   Average Episode Time: 143.4s\n",
      "   Final Buffer Size: 0.44M\n",
      "============================================================\n"
     ]
    },
    {
     "name": "stderr",
     "output_type": "stream",
     "text": [
      "\n"
     ]
    }
   ],
   "source": [
    "# Continue training from the best checkpoint\n",
    "scores = ddpg_train_with_checkpoints(\n",
    "    env, agent, brain_name,\n",
    "    n_episodes=300,  \n",
    "    max_t=1000,\n",
    "    print_every=5,    \n",
    "    save_every=5,\n",
    "    resume_from=best_checkpoint_path\n",
    ")"
   ]
  },
  {
   "cell_type": "code",
   "execution_count": 31,
   "metadata": {},
   "outputs": [
    {
     "data": {
      "image/png": "[encoded data removed]",
      "text/plain": [
       "<Figure size 1200x600 with 1 Axes>"
      ]
     },
     "metadata": {},
     "output_type": "display_data"
    },
    {
     "name": "stdout",
     "output_type": "stream",
     "text": [
      "Environment solved in 110 total episodes\n",
      "Final 100-episode average: 29.60\n"
     ]
    }
   ],
   "source": [
    "import matplotlib.pyplot as plt\n",
    "import numpy as np\n",
    "\n",
    "# Load your checkpoint to get all scores\n",
    "checkpoint = torch.load('checkpoints/checkpoint_ep110_20250904_113738.pth', weights_only=False)\n",
    "all_scores = checkpoint['scores']\n",
    "\n",
    "# Create the plot\n",
    "plt.figure(figsize=(12, 6))\n",
    "plt.plot(all_scores, alpha=0.6, label='Episode Score')\n",
    "rolling_mean = np.convolve(all_scores, np.ones(100)/100, mode='valid')\n",
    "plt.plot(range(99, len(all_scores)), rolling_mean, color='red', linewidth=2, label='100-Episode Average')\n",
    "plt.axhline(y=30, color='green', linestyle='--', label='Target Score')\n",
    "plt.xlabel('Episode')\n",
    "plt.ylabel('Score')\n",
    "plt.title('DDPG Training Progress - Continuous Control')\n",
    "plt.legend()\n",
    "plt.grid(True, alpha=0.3)\n",
    "plt.savefig('training_plot.png', dpi=150, bbox_inches='tight')\n",
    "plt.show()\n",
    "\n",
    "print(f\"Environment solved in {len(all_scores)} total episodes\")\n",
    "print(f\"Final 100-episode average: {np.mean(all_scores[-100:]):.2f}\")"
   ]
  },
  {
   "cell_type": "code",
   "execution_count": null,
   "metadata": {},
   "outputs": [],
   "source": []
  }
 ],
 "metadata": {
  "kernelspec": {
   "display_name": "Python 3 (ipykernel)",
   "language": "python",
   "name": "python3"
  },
  "language_info": {
   "codemirror_mode": {
    "name": "ipython",
    "version": 3
   },
   "file_extension": ".py",
   "mimetype": "text/x-python",
   "name": "python",
   "nbconvert_exporter": "python",
   "pygments_lexer": "ipython3",
   "version": "3.11.0rc1"
  }
 },
 "nbformat": 4,
 "nbformat_minor": 2
}
